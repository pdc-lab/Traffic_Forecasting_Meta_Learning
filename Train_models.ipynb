{
  "nbformat": 4,
  "nbformat_minor": 0,
  "metadata": {
    "colab": {
      "provenance": [],
      "collapsed_sections": [
        "p2f6JSwPQcVJ"
      ]
    },
    "kernelspec": {
      "name": "python3",
      "display_name": "Python 3"
    },
    "language_info": {
      "name": "python"
    }
  },
  "cells": [
    {
      "cell_type": "markdown",
      "source": [
        "# Connect with credentials and dowload repo."
      ],
      "metadata": {
        "id": "p2f6JSwPQcVJ"
      }
    },
    {
      "cell_type": "markdown",
      "source": [
        "This notebook is to train and test the models  to be explore."
      ],
      "metadata": {
        "id": "CB7d6YsLPqGu"
      }
    },
    {
      "cell_type": "code",
      "source": [
        "!pip install dgl"
      ],
      "metadata": {
        "colab": {
          "base_uri": "https://localhost:8080/"
        },
        "id": "dyKVJsnEWynx",
        "outputId": "f41738c5-6e2a-4577-9022-ce34f04a06df"
      },
      "execution_count": 13,
      "outputs": [
        {
          "output_type": "stream",
          "name": "stdout",
          "text": [
            "Looking in indexes: https://pypi.org/simple, https://us-python.pkg.dev/colab-wheels/public/simple/\n",
            "Collecting dgl\n",
            "  Downloading dgl-1.0.1-cp39-cp39-manylinux1_x86_64.whl (5.4 MB)\n",
            "\u001b[2K     \u001b[90m━━━━━━━━━━━━━━━━━━━━━━━━━━━━━━━━━━━━━━━━\u001b[0m \u001b[32m5.4/5.4 MB\u001b[0m \u001b[31m32.2 MB/s\u001b[0m eta \u001b[36m0:00:00\u001b[0m\n",
            "\u001b[?25hRequirement already satisfied: requests>=2.19.0 in /usr/local/lib/python3.9/dist-packages (from dgl) (2.27.1)\n",
            "Requirement already satisfied: numpy>=1.14.0 in /usr/local/lib/python3.9/dist-packages (from dgl) (1.22.4)\n",
            "Requirement already satisfied: psutil>=5.8.0 in /usr/local/lib/python3.9/dist-packages (from dgl) (5.9.4)\n",
            "Requirement already satisfied: scipy>=1.1.0 in /usr/local/lib/python3.9/dist-packages (from dgl) (1.10.1)\n",
            "Requirement already satisfied: networkx>=2.1 in /usr/local/lib/python3.9/dist-packages (from dgl) (3.0)\n",
            "Requirement already satisfied: tqdm in /usr/local/lib/python3.9/dist-packages (from dgl) (4.65.0)\n",
            "Requirement already satisfied: charset-normalizer~=2.0.0 in /usr/local/lib/python3.9/dist-packages (from requests>=2.19.0->dgl) (2.0.12)\n",
            "Requirement already satisfied: certifi>=2017.4.17 in /usr/local/lib/python3.9/dist-packages (from requests>=2.19.0->dgl) (2022.12.7)\n",
            "Requirement already satisfied: urllib3<1.27,>=1.21.1 in /usr/local/lib/python3.9/dist-packages (from requests>=2.19.0->dgl) (1.26.15)\n",
            "Requirement already satisfied: idna<4,>=2.5 in /usr/local/lib/python3.9/dist-packages (from requests>=2.19.0->dgl) (3.4)\n",
            "Installing collected packages: dgl\n",
            "Successfully installed dgl-1.0.1\n"
          ]
        }
      ]
    },
    {
      "cell_type": "code",
      "execution_count": 1,
      "metadata": {
        "colab": {
          "base_uri": "https://localhost:8080/"
        },
        "id": "_bffdK5-PhlN",
        "outputId": "7685cf6a-0784-44b4-c400-d8da24ec8edb"
      },
      "outputs": [
        {
          "output_type": "stream",
          "name": "stdout",
          "text": [
            "Mounted at /content/drive\n"
          ]
        }
      ],
      "source": [
        "from google.colab import drive\n",
        "drive.mount('/content/drive')"
      ]
    },
    {
      "cell_type": "code",
      "source": [
        "!git clone --recurse-submodules https://github.com/pdc-lab/Traffic_Forecasting_Meta_Learning.git"
      ],
      "metadata": {
        "id": "1p1ILWMMP_-z",
        "colab": {
          "base_uri": "https://localhost:8080/"
        },
        "outputId": "49bf4046-6455-4fd8-cda9-d5297938e276"
      },
      "execution_count": 4,
      "outputs": [
        {
          "output_type": "stream",
          "name": "stdout",
          "text": [
            "Cloning into 'Traffic_Forecasting_Meta_Learning'...\n",
            "remote: Enumerating objects: 14, done.\u001b[K\n",
            "remote: Counting objects: 100% (14/14), done.\u001b[K\n",
            "remote: Compressing objects: 100% (12/12), done.\u001b[K\n",
            "Unpacking objects: 100% (14/14), 2.14 KiB | 548.00 KiB/s, done.\n",
            "remote: Total 14 (delta 2), reused 10 (delta 1), pack-reused 0\u001b[K\n",
            "Submodule 'astgnn' (https://github.com/guoshnBJTU/ASTGNN.git) registered for path 'astgnn'\n",
            "Submodule 'astnn' (https://github.com/yokifly/ASTTN_pytorch.git) registered for path 'astnn'\n",
            "Cloning into '/content/Traffic_Forecasting_Meta_Learning/astgnn'...\n",
            "remote: Enumerating objects: 47, done.        \n",
            "remote: Counting objects: 100% (10/10), done.        \n",
            "remote: Compressing objects: 100% (8/8), done.        \n",
            "remote: Total 47 (delta 4), reused 6 (delta 2), pack-reused 37        \n",
            "Cloning into '/content/Traffic_Forecasting_Meta_Learning/astnn'...\n",
            "remote: Enumerating objects: 18, done.        \n",
            "remote: Counting objects: 100% (18/18), done.        \n",
            "remote: Compressing objects: 100% (17/17), done.        \n",
            "remote: Total 18 (delta 1), reused 0 (delta 0), pack-reused 0        \n",
            "Submodule path 'astgnn': checked out '9c2e19b98c4cedf1f35214d8789685b6381b3aad'\n",
            "Submodule path 'astnn': checked out '56f3136997ab008ce3bb559697d120b9201acd37'\n"
          ]
        }
      ]
    },
    {
      "cell_type": "markdown",
      "source": [
        "Transformer Based Neural Networks. This research will concentrate on exploring Graphs based Transformers for Traffic forecasting. I believe that graph latent space tecniques can be very useful for improving the performance of traffic forecasting GNN and that Graphs based transformers are very good appraches to generate these embeddings. "
      ],
      "metadata": {
        "id": "eR4NQhWwS8OF"
      }
    },
    {
      "cell_type": "code",
      "source": [
        "%cd Traffic_Forecasting_Meta_Learning\n",
        "%cd astnn"
      ],
      "metadata": {
        "colab": {
          "base_uri": "https://localhost:8080/"
        },
        "id": "z59yGE7JV-Dm",
        "outputId": "cd863542-cd2e-426b-c7ed-1f58ef2a3d27"
      },
      "execution_count": 14,
      "outputs": [
        {
          "output_type": "stream",
          "name": "stdout",
          "text": [
            "[Errno 2] No such file or directory: 'Traffic_Forecasting_Meta_Learning'\n",
            "/content/Traffic_Forecasting_Meta_Learning/astnn\n"
          ]
        }
      ]
    },
    {
      "cell_type": "code",
      "source": [
        "!ls"
      ],
      "metadata": {
        "colab": {
          "base_uri": "https://localhost:8080/"
        },
        "id": "5Z283l8aWH50",
        "outputId": "addebcce-3e95-4fe3-e327-8bc4c5b4033e"
      },
      "execution_count": 24,
      "outputs": [
        {
          "output_type": "stream",
          "name": "stdout",
          "text": [
            "data  main.py  model  __pycache__  README.md  save  train.sh  utils.py\n"
          ]
        }
      ]
    },
    {
      "cell_type": "code",
      "source": [
        "%cd .."
      ],
      "metadata": {
        "colab": {
          "base_uri": "https://localhost:8080/"
        },
        "id": "QjQ4BrSeXDNg",
        "outputId": "e85ee46a-829b-484c-e809-ac1933104d49"
      },
      "execution_count": 23,
      "outputs": [
        {
          "output_type": "stream",
          "name": "stdout",
          "text": [
            "/content/Traffic_Forecasting_Meta_Learning/astnn\n"
          ]
        }
      ]
    },
    {
      "cell_type": "markdown",
      "source": [
        "# Train ASTNN"
      ],
      "metadata": {
        "id": "otSGTHBxRqVL"
      }
    },
    {
      "cell_type": "markdown",
      "source": [
        "current astnn code train the model with the Pems dataset. Future work will concentrate on changing the models so that it works on Pytorch Geometric Temporal Datasets. Meanwhile we are going to process the data so that it can adapt with each model to try."
      ],
      "metadata": {
        "id": "FhkzyAPgR3LS"
      }
    },
    {
      "cell_type": "code",
      "source": [
        "# Dowload the pems dataset .h5 file\n",
        "%cd data\n",
        "!wget https://zenodo.org/record/4263971/files/pems-bay.h5?download=1"
      ],
      "metadata": {
        "colab": {
          "base_uri": "https://localhost:8080/"
        },
        "id": "mU2hePBIYTg1",
        "outputId": "3e2bd241-688c-4e1e-ae80-8dd044b2fdcd"
      },
      "execution_count": 20,
      "outputs": [
        {
          "output_type": "stream",
          "name": "stdout",
          "text": [
            "--2023-04-05 03:07:30--  https://zenodo.org/record/4263971/files/pems-bay.h5?download=1\n",
            "Resolving zenodo.org (zenodo.org)... 188.185.124.72\n",
            "Connecting to zenodo.org (zenodo.org)|188.185.124.72|:443... connected.\n",
            "HTTP request sent, awaiting response... 200 OK\n",
            "Length: 135930936 (130M) [application/octet-stream]\n",
            "Saving to: ‘pems-bay.h5?download=1’\n",
            "\n",
            "pems-bay.h5?downloa 100%[===================>] 129.63M  4.45MB/s    in 4m 44s  \n",
            "\n",
            "2023-04-05 03:12:17 (467 KB/s) - ‘pems-bay.h5?download=1’ saved [135930936/135930936]\n",
            "\n"
          ]
        }
      ]
    },
    {
      "cell_type": "code",
      "source": [
        "!python main.py"
      ],
      "metadata": {
        "id": "EEUzlKjsRGcD",
        "colab": {
          "base_uri": "https://localhost:8080/"
        },
        "outputId": "acf5a8e0-2d8a-41cb-8bb4-fd4bafc046f5"
      },
      "execution_count": 25,
      "outputs": [
        {
          "output_type": "stream",
          "name": "stdout",
          "text": [
            "New...\n",
            "time_slot=5, num_his=12, num_pred=12, L=1, K=8, d=8, window=6, train_ratio=0.7, val_ratio=0.1, test_ratio=0.2, batch_size=32, max_epoch=100, learning_rate=0.001, decay_epoch=20, ds='pems-bay', se_type='node2vec', remark='', model='adp', traffic_file='./data/pems-bay.h5', model_file='./save/pems-bay_adp.pkl'\n",
            "loading data...\n",
            "Traceback (most recent call last):\n",
            "  File \"/content/Traffic_Forecasting_Meta_Learning/astnn/main.py\", line 66, in <module>\n",
            "    testY, mean, std) = load_data(args)\n",
            "  File \"/content/Traffic_Forecasting_Meta_Learning/astnn/utils.py\", line 78, in load_data\n",
            "    df = pd.read_hdf(args.traffic_file)\n",
            "  File \"/usr/local/lib/python3.9/dist-packages/pandas/io/pytables.py\", line 427, in read_hdf\n",
            "    raise FileNotFoundError(f\"File {path_or_buf} does not exist\")\n",
            "FileNotFoundError: File ./data/pems-bay.h5 does not exist\n"
          ]
        }
      ]
    },
    {
      "cell_type": "code",
      "source": [],
      "metadata": {
        "id": "VG7tMtaDSur6"
      },
      "execution_count": null,
      "outputs": []
    },
    {
      "cell_type": "markdown",
      "source": [
        "Train ASTGNN"
      ],
      "metadata": {
        "id": "qVlh7V6qSvTo"
      }
    }
  ]
}